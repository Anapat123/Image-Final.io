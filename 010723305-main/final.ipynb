{
 "cells": [
  {
   "cell_type": "code",
   "execution_count": 9,
   "metadata": {},
   "outputs": [],
   "source": [
    "import numpy as np\n",
    "import cv2 \n",
    "import os\n"
   ]
  },
  {
   "cell_type": "code",
   "execution_count": 12,
   "metadata": {},
   "outputs": [],
   "source": [
    "vid = cv2.VideoCapture('left_output.avi')   \n",
    "template_img = cv2.imread('Template-1.png',1)\n",
    "template_gray =  cv2.cvtColor(template_img, cv2.COLOR_BGR2GRAY)\n",
    "while vid.isOpened() :\n",
    "    ret, frame = vid.read()\n",
    "    \n",
    "    if ret :\n",
    "        cv2.imshow('Video frame', frame)\n",
    "\n",
    "        if cv2.waitKey(int(1000/24)) & 0xFF == ord('q') : # this line control the period between image frame\n",
    "            break\n",
    "    else :\n",
    "        break\n",
    "vid.release()\n",
    "cv2.destroyAllWindows()"
   ]
  },
  {
   "cell_type": "code",
   "execution_count": 8,
   "metadata": {},
   "outputs": [],
   "source": []
  },
  {
   "cell_type": "code",
   "execution_count": null,
   "metadata": {},
   "outputs": [],
   "source": [
    "template_img_url = \"https://raw.githubusercontent.com/jbinteam/010723305/main/images/template.png\"\n",
    "query_img_url = \"https://raw.githubusercontent.com/jbinteam/010723305/main/images/query.png\"\n",
    "query_img_far_url = \"https://raw.githubusercontent.com/jbinteam/010723305/main/images/query-far.png\"\n",
    "\n",
    "template_img = io.imread(template_img_url)\n",
    "template_img, template_gray = preprocessing(template_img)\n",
    "\n",
    "query_img = io.imread(query_img_url)\n",
    "query_img, query_gray = preprocessing(query_img)\n",
    "\n",
    "query_far_img = io.imread(query_img_far_url)\n",
    "query_far_img, query_far_gray = preprocessing(query_far_img)\n",
    "\n",
    "imshow_compare(template_img, query_img)\n",
    "imshow_compare(template_img, query_far_img)"
   ]
  }
 ],
 "metadata": {
  "interpreter": {
   "hash": "43435a050d4ac362dc4b1b4851a0333547cf4819a4e47175b9a0f2919a9b0b1b"
  },
  "kernelspec": {
   "display_name": "Python 3.9.6 64-bit",
   "language": "python",
   "name": "python3"
  },
  "language_info": {
   "codemirror_mode": {
    "name": "ipython",
    "version": 3
   },
   "file_extension": ".py",
   "mimetype": "text/x-python",
   "name": "python",
   "nbconvert_exporter": "python",
   "pygments_lexer": "ipython3",
   "version": "3.9.6"
  },
  "orig_nbformat": 4
 },
 "nbformat": 4,
 "nbformat_minor": 2
}
